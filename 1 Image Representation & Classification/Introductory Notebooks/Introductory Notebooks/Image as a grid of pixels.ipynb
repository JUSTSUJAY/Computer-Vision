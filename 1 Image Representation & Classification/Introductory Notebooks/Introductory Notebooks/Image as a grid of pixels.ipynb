{
 "cells": [
  {
   "cell_type": "code",
   "execution_count": 2,
   "id": "c87a5a5e",
   "metadata": {},
   "outputs": [],
   "source": [
    "import numpy as np\n",
    "import matplotlib.image as mimage\n",
    "import matplotlib.pyplot as plt\n",
    "import cv2\n",
    "%matplotlib qt"
   ]
  },
  {
   "cell_type": "code",
   "execution_count": 3,
   "id": "cbc6f4a5",
   "metadata": {},
   "outputs": [
    {
     "name": "stdout",
     "output_type": "stream",
     "text": [
      "Image Shape (2160, 4096, 3)\n"
     ]
    }
   ],
   "source": [
    "image = mimage.imread('anime-girl-watching-sunset-fence-4k-0s.jpg')\n",
    "print('Image Shape',image.shape)"
   ]
  },
  {
   "cell_type": "code",
   "execution_count": 7,
   "id": "27b80707",
   "metadata": {},
   "outputs": [],
   "source": [
    "grayScale = cv2.cvtColor(image,cv2.COLOR_RGB2GRAY)"
   ]
  },
  {
   "cell_type": "code",
   "execution_count": 10,
   "id": "46c1b303",
   "metadata": {},
   "outputs": [
    {
     "data": {
      "text/plain": [
       "<matplotlib.image.AxesImage at 0x1fa59aedcd0>"
      ]
     },
     "execution_count": 10,
     "metadata": {},
     "output_type": "execute_result"
    }
   ],
   "source": [
    "plt.imshow(grayScale,cmap='gray')"
   ]
  },
  {
   "cell_type": "code",
   "execution_count": 12,
   "id": "24a0865e",
   "metadata": {},
   "outputs": [
    {
     "name": "stdout",
     "output_type": "stream",
     "text": [
      "60\n"
     ]
    }
   ],
   "source": [
    "x,y = 1000,1000\n",
    "at_1000 = grayScale[x,y]\n",
    "print(at_1000)"
   ]
  },
  {
   "cell_type": "code",
   "execution_count": null,
   "id": "a0999f39",
   "metadata": {},
   "outputs": [],
   "source": []
  }
 ],
 "metadata": {
  "kernelspec": {
   "display_name": "Python 3 (ipykernel)",
   "language": "python",
   "name": "python3"
  },
  "language_info": {
   "codemirror_mode": {
    "name": "ipython",
    "version": 3
   },
   "file_extension": ".py",
   "mimetype": "text/x-python",
   "name": "python",
   "nbconvert_exporter": "python",
   "pygments_lexer": "ipython3",
   "version": "3.9.2"
  }
 },
 "nbformat": 4,
 "nbformat_minor": 5
}
